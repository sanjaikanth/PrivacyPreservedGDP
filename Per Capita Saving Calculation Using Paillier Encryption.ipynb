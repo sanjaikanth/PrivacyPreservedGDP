{
 "cells": [
  {
   "cell_type": "markdown",
   "id": "a608cbb6",
   "metadata": {},
   "source": [
    "* Alice, Bob, and Charlie are the candidates for accepting values from each participant.\n",
    "* Values from each user are randomly split among the candidates.\n",
    "* The split value is encrypted using Paillier encryption and sent to the candidates using the candidates' public key.\n",
    "* After receiving all the values from participants, the candidates will perform Additive Homomorphic encryption of all the encrypted ciphertext.\n",
    "* The resulting ciphertext is decrypted at the candidate's side using the private key of the candidate.\n",
    "* The sum of decrypted values among the candidates is the total sum sent by all the participants.\n"
   ]
  },
  {
   "cell_type": "code",
   "execution_count": 7,
   "id": "bc2b4ca2",
   "metadata": {},
   "outputs": [
    {
     "name": "stdout",
     "output_type": "stream",
     "text": [
      "[53, 7, 7, 1, 32]\n"
     ]
    },
    {
     "data": {
      "text/plain": [
       "int"
      ]
     },
     "execution_count": 7,
     "metadata": {},
     "output_type": "execute_result"
    }
   ],
   "source": [
    "#Generic Methods\n",
    "import random\n",
    "\n",
    "def gcd_extended(a, b):\n",
    "    if a == 0:\n",
    "        return b, 0, 1\n",
    "\n",
    "    gcd, x1, y1 = gcd_extended(b % a, a)\n",
    "\n",
    "    x = y1 - (b // a) * x1\n",
    "    y = x1\n",
    "\n",
    "    return gcd, x, y\n",
    "\n",
    "def modular_inverse(a, n):\n",
    "    gcd, x, _ = gcd_extended(a, n)\n",
    "    if gcd == 1:\n",
    "        return x % n\n",
    "    return None\n",
    "\n",
    "def generate_prime(bits):\n",
    "    while True:\n",
    "        num = random.getrandbits(bits)\n",
    "        if num % 2 != 0 and is_prime(num):\n",
    "            return num\n",
    "\n",
    "def is_prime(n, k=40):\n",
    "    if n <= 3:\n",
    "        return n == 2 or n == 3\n",
    "\n",
    "    r, s = 0, n - 1\n",
    "    while s % 2 == 0:\n",
    "        r += 1\n",
    "        s //= 2\n",
    "\n",
    "    for _ in range(k):\n",
    "        a = random.randrange(2, n - 1)\n",
    "        x = pow(a, s, n)\n",
    "\n",
    "        if x == 1 or x == n - 1:\n",
    "            continue\n",
    "\n",
    "        for _ in range(r - 1):\n",
    "            x = pow(x, 2, n)\n",
    "            if x == n - 1:\n",
    "                break\n",
    "        else:\n",
    "            return False\n",
    "    return True\n",
    "\n",
    "def distribute_number_as_3(number):\n",
    "    # Generate random non-zero values that sum up to 'number - 1'\n",
    "    half = number // 2\n",
    "    values = random.sample(range(1, half + 1), 2)\n",
    "    values.append(number - sum(values))\n",
    "    new_tuple = tuple(int(item) for item in values)\n",
    "\n",
    "    return tuple(new_tuple)\n",
    "\n",
    "import random\n",
    "\n",
    "def distribute_number(number, n):\n",
    "    distributed_numbers = []\n",
    "\n",
    "    for _ in range(n-1):\n",
    "        # Generate a random value between 1 and the remaining number (inclusive)\n",
    "        value = random.randint(1, number - (n - len(distributed_numbers) - 1))\n",
    "\n",
    "        # Subtract the generated value from the remaining number\n",
    "        number -= value\n",
    "\n",
    "        # Append the generated value to the list\n",
    "        distributed_numbers.append(int(value))\n",
    "\n",
    "    # Append the remaining number\n",
    "    distributed_numbers.append(int(number))\n",
    "    #distributed_numbers = tuple(int(item) for item in distributed_numbers)\n",
    "    random.shuffle(distributed_numbers)\n",
    "    return distributed_numbers\n",
    "\n",
    "# Example usage\n",
    "number_to_distribute = 100\n",
    "resultDistibuted = distribute_number(number_to_distribute,5)\n",
    "print(resultDistibuted)\n",
    "type(resultDistibuted[2])"
   ]
  },
  {
   "cell_type": "code",
   "execution_count": 8,
   "id": "e81b0529",
   "metadata": {},
   "outputs": [],
   "source": [
    "#Paillier Encryption\n",
    "class PaillierEncryption:\n",
    "    def __init__(self, key_length=1024):\n",
    "        self.key_length = 33\n",
    "        #self.n_squared=0\n",
    "        #self.key_length = key_length\n",
    "        self.public_key, self.private_key = self.generate_key_pair()\n",
    "        self.container=[]\n",
    "\n",
    "    def generate_key_pair(self):\n",
    "        p = generate_prime(self.key_length // 2)\n",
    "        q = generate_prime(self.key_length // 2)\n",
    "\n",
    "        n = p * q\n",
    "        n_squared = n ** 2\n",
    "        g = n + 1\n",
    "        l = (p - 1) * (q - 1)\n",
    "        mu = modular_inverse(l, n)\n",
    "\n",
    "        public_key = (n, g)\n",
    "        private_key = (l, mu)\n",
    "\n",
    "        return public_key, private_key\n",
    "\n",
    "    def encrypt(self, plaintext):\n",
    "        n, g = self.public_key\n",
    "        r = random.randint(1, n - 1)\n",
    "        n_squared = n ** 2\n",
    "        #print(g,plaintext,n_squared,r,n)\n",
    "        ciphertext = (pow(g, plaintext, n_squared) * pow(r, n, n_squared)) % n_squared\n",
    "        return ciphertext\n",
    "\n",
    "    def decrypt(self, ciphertext):\n",
    "        n, _ = self.public_key\n",
    "        l, mu = self.private_key\n",
    "        n_squared = n ** 2\n",
    "\n",
    "        numerator = pow(ciphertext, l, n_squared) - 1\n",
    "        plaintext = (numerator // n) * mu % n\n",
    "        return plaintext\n",
    "    \n",
    "    def mult_paillier(self , m, pc):\n",
    "        n, g = self.public_key\n",
    "        n_squared = n ** 2\n",
    "        mult= pow(pc, m, n_squared)\n",
    "        return mult\n",
    "    \n",
    "    def add_paillier(self, pc1 , pc2):\n",
    "        n, _ = self.public_key\n",
    "        n_squared = n ** 2\n",
    "        res=(pc1*pc2 ) % n_squared\n",
    "        return res\n",
    "    def add_to_queue(self,value):\n",
    "        self.container.append(value)\n",
    "    def Retriev_Container(self):\n",
    "        return self.container\n",
    "    def multiply_Container(self):\n",
    "        multVal=1\n",
    "        for i in range(len(self.container)):\n",
    "            #print(self.container[i])\n",
    "            multVal=multVal*self.container[i]\n",
    "        return multVal\n",
    "    \n"
   ]
  },
  {
   "cell_type": "code",
   "execution_count": 9,
   "id": "2e991d13",
   "metadata": {},
   "outputs": [
    {
     "name": "stdout",
     "output_type": "stream",
     "text": [
      "Plaintext: 333\n",
      "Ciphertext: 351502632955699963\n",
      "Decrypted plaintext: 333\n"
     ]
    }
   ],
   "source": [
    "#Testing Encryption and decryption\n",
    "plaintext = 333\n",
    "paillier = PaillierEncryption()\n",
    "ciphertext = paillier.encrypt(plaintext)\n",
    "decrypted_plaintext = paillier.decrypt(ciphertext)\n",
    "\n",
    "print(\"Plaintext:\", plaintext)\n",
    "print(\"Ciphertext:\", ciphertext)\n",
    "print(\"Decrypted plaintext:\", decrypted_plaintext)\n"
   ]
  },
  {
   "cell_type": "code",
   "execution_count": 10,
   "id": "5a9a1274",
   "metadata": {},
   "outputs": [
    {
     "data": {
      "text/plain": [
       "30"
      ]
     },
     "execution_count": 10,
     "metadata": {},
     "output_type": "execute_result"
    }
   ],
   "source": [
    "#Additive homomorphic property of Paillier\n",
    "m1=10\n",
    "m1C = paillier.encrypt(m1)\n",
    "m2=20\n",
    "m2C = paillier.encrypt(m2)\n",
    "# m1m2C=m1C*m2C\n",
    "# print(m1C,m2C,m1m2C)\n",
    "# paillier.decrypt(m1m2C)\n",
    "m1m2C=paillier.add_paillier(m1C,m2C)\n",
    "paillier.decrypt(m1m2C)"
   ]
  },
  {
   "cell_type": "code",
   "execution_count": 11,
   "id": "9220a467",
   "metadata": {},
   "outputs": [
    {
     "name": "stdout",
     "output_type": "stream",
     "text": [
      "148861840481775396 2 22159847551621544062684812190956816\n"
     ]
    },
    {
     "data": {
      "text/plain": [
       "10"
      ]
     },
     "execution_count": 11,
     "metadata": {},
     "output_type": "execute_result"
    }
   ],
   "source": [
    "#Multiplicative homomorphic property of Paillier\n",
    "m1=5\n",
    "m1C = paillier.encrypt(m1)\n",
    "n=2\n",
    "m1pown=m1C**n\n",
    "print(m1C, n,m1pown)\n",
    "paillier.decrypt(m1pown)"
   ]
  },
  {
   "cell_type": "code",
   "execution_count": 23,
   "id": "3eda615d",
   "metadata": {},
   "outputs": [
    {
     "name": "stdout",
     "output_type": "stream",
     "text": [
      "Input Values Of All Participants:  [100 200 150  80  90 180]\n",
      "\n",
      "Participant 1 Value To Distribute : 100\n",
      "Passing Encrypted Value 13  to  Alice\n",
      "Passing Encrypted Value 82  to  Bob\n",
      "Passing Encrypted Value 5  to  Charlie\n",
      "\n",
      "Participant 2 Value To Distribute : 200\n",
      "Passing Encrypted Value 76  to  Alice\n",
      "Passing Encrypted Value 40  to  Bob\n",
      "Passing Encrypted Value 84  to  Charlie\n",
      "\n",
      "Participant 3 Value To Distribute : 150\n",
      "Passing Encrypted Value 22  to  Alice\n",
      "Passing Encrypted Value 24  to  Bob\n",
      "Passing Encrypted Value 104  to  Charlie\n",
      "\n",
      "Participant 4 Value To Distribute : 80\n",
      "Passing Encrypted Value 50  to  Alice\n",
      "Passing Encrypted Value 26  to  Bob\n",
      "Passing Encrypted Value 4  to  Charlie\n",
      "\n",
      "Participant 5 Value To Distribute : 90\n",
      "Passing Encrypted Value 71  to  Alice\n",
      "Passing Encrypted Value 9  to  Bob\n",
      "Passing Encrypted Value 10  to  Charlie\n",
      "\n",
      "Participant 6 Value To Distribute : 180\n",
      "Passing Encrypted Value 21  to  Alice\n",
      "Passing Encrypted Value 148  to  Bob\n",
      "Passing Encrypted Value 11  to  Charlie\n",
      "\n",
      "Sum of Values Decrypted By Alice :  253\n",
      "Sum of Values Decrypted By Bob :  329\n",
      "Sum of Values Decrypted By Chalie :  218\n",
      "\n",
      "Expected Sum Of All Participant Values:  800\n",
      "Actual Sum Of Decrypted Values By All Candidates:  800\n"
     ]
    }
   ],
   "source": [
    "#Privacy Preserved Per Capita Saving Calculation\n",
    "import numpy as np\n",
    "\n",
    "participantsCount=10\n",
    "candidateCount=3\n",
    "    \n",
    "AliceP = PaillierEncryption()\n",
    "BobP = PaillierEncryption()\n",
    "ChalieP = PaillierEncryption()\n",
    "candidates=[AliceP,BobP,ChalieP]\n",
    "CandidateNames=[\"Alice\",\"Bob\",\"Charlie\"]\n",
    "InputValues=np.array([100,200,150,80,90,180])\n",
    "print(\"Input Values Of All Participants: \",InputValues)\n",
    "\n",
    "for gdpInddex in range(len(InputValues)):\n",
    "    ValueToProcess=InputValues[gdpInddex]\n",
    "    print(\"\\nParticipant\",gdpInddex+1, \"Value To Distribute\" ,\":\",ValueToProcess)\n",
    "    dividedNumber=distribute_number(ValueToProcess,candidateCount)\n",
    "\n",
    "    for divideIndex in range(len(dividedNumber)):\n",
    "        passingValue=dividedNumber[divideIndex]\n",
    "        candidateP=candidates[divideIndex]\n",
    "        print(\"Passing Encrypted Value\" , passingValue ,\" to \", CandidateNames[divideIndex])\n",
    "        passingValueC=candidateP.encrypt(passingValue) \n",
    "        candidateP.add_to_queue(passingValueC)\n",
    "\n",
    "AliceSumC=AliceP.multiply_Container()\n",
    "AliceSumDecrypt= AliceP.decrypt(AliceSumC)\n",
    "print(\"\\nSum of Values Decrypted By Alice : \",AliceSumDecrypt)\n",
    "\n",
    "BobSumC=BobP.multiply_Container()\n",
    "BobSumDecrypt=BobP.decrypt(BobSumC)\n",
    "print(\"Sum of Values Decrypted By Bob : \",BobSumDecrypt)\n",
    "\n",
    "ChalieSumC=ChalieP.multiply_Container()\n",
    "ChalieSumDecrypt=ChalieP.decrypt(ChalieSumC)\n",
    "print(\"Sum of Values Decrypted By Chalie : \",ChalieSumDecrypt)\n",
    "\n",
    "sumOfDerypt=AliceSumDecrypt+BobSumDecrypt+ChalieSumDecrypt\n",
    "print(\"\\nExpected Sum Of All Participant Values: \",sum(InputValues))\n",
    "print(\"Actual Sum Of Decrypted Values By All Candidates: \",sumOfDerypt)"
   ]
  }
 ],
 "metadata": {
  "kernelspec": {
   "display_name": "Python 3 (ipykernel)",
   "language": "python",
   "name": "python3"
  },
  "language_info": {
   "codemirror_mode": {
    "name": "ipython",
    "version": 3
   },
   "file_extension": ".py",
   "mimetype": "text/x-python",
   "name": "python",
   "nbconvert_exporter": "python",
   "pygments_lexer": "ipython3",
   "version": "3.9.13"
  }
 },
 "nbformat": 4,
 "nbformat_minor": 5
}
